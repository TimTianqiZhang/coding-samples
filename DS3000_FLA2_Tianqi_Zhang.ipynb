{
  "nbformat": 4,
  "nbformat_minor": 0,
  "metadata": {
    "kernelspec": {
      "display_name": "Python 3",
      "language": "python",
      "name": "python3"
    },
    "language_info": {
      "codemirror_mode": {
        "name": "ipython",
        "version": 3
      },
      "file_extension": ".py",
      "mimetype": "text/x-python",
      "name": "python",
      "nbconvert_exporter": "python",
      "pygments_lexer": "ipython3",
      "version": "3.8.5"
    },
    "colab": {
      "name": "DS3000_FLA2-Tianqi Zhang.ipynb",
      "provenance": [],
      "collapsed_sections": []
    }
  },
  "cells": [
    {
      "cell_type": "markdown",
      "metadata": {
        "id": "hriRA0t8CRer"
      },
      "source": [
        "<h1> <center> Data Wrangling and Visualization </center> </h1>"
      ]
    },
    {
      "cell_type": "markdown",
      "metadata": {
        "id": "QZ6brHB8CRex"
      },
      "source": [
        "<h2> <center> Your Name(s) </center> </h2>\n",
        "\n",
        "<center> Identify your collaborators, if any </center>"
      ]
    },
    {
      "cell_type": "markdown",
      "metadata": {
        "id": "-r-gN00oCRex"
      },
      "source": [
        "<hr />"
      ]
    },
    {
      "cell_type": "markdown",
      "metadata": {
        "id": "oEfVbDYnCRey"
      },
      "source": [
        "In this FLA, you will work with an interesting dataset and practice some of the key concepts covered this week, while exploring some of the data visualization methods bundled with pandas. You will also come up with a plan for FP1."
      ]
    },
    {
      "cell_type": "markdown",
      "metadata": {
        "id": "IHZNgFz2CRey"
      },
      "source": [
        "**What to do:**\n",
        "* Complete the following tutorial and answer the questions.\n",
        "\n",
        "\n",
        "* If you are a synchronous student, you will work with your project group members on this FLA.\n",
        "    * **Each of you should submit their FLA individually though.**\n",
        "* Asynchronous students can reach out to their teammates or another classmate to work together on this FLA, but this is not a requirement.\n",
        "\n",
        "\n",
        "* **Note that collaboration is allowed on FLAs only!**\n",
        "\n",
        "\n",
        "    \n",
        "**What to submit:**\n",
        "\n",
        "- Upload your completed Notebook to Google Colab (https://colab.research.google.com/notebooks/)\n",
        "- Get a shareable link to your Notebook on Colab\n",
        "    * Go to Share near the top-right corner of the screen.\n",
        "    * <font color='red'> **Make sure you select \"Anyone with the Link Can View\"** </font>\n",
        "    * Copy the link\n",
        "* Go to Canvas\n",
        "* **Upload your completed Jupyter Notebook through the Canvas FLA link.**\n",
        "* **Paste the link to your Colab Notebook in the Comments field.**\n",
        "* Both are required!\n",
        "\n",
        "\n"
      ]
    },
    {
      "cell_type": "markdown",
      "metadata": {
        "id": "O1FFMt26CRez"
      },
      "source": [
        "<hr />"
      ]
    },
    {
      "cell_type": "markdown",
      "metadata": {
        "id": "qIFzBt-dCRez"
      },
      "source": [
        "## Dataset\n",
        "The dataset, world_data_years.csv, contains Life Expectancy, Population, and Income data for countries across years. Go ahead and import it by running the following cell:"
      ]
    },
    {
      "cell_type": "code",
      "metadata": {
        "id": "NTETQwLwCRez",
        "colab": {
          "base_uri": "https://localhost:8080/",
          "height": 419
        },
        "outputId": "e113ce0e-79d4-453c-928c-3528123ddb55"
      },
      "source": [
        "import pandas as pd\n",
        "world_data = pd.read_csv(\"https://raw.githubusercontent.com/yildirimcaglar/yildirimcaglar.github.io/master/ds3000/world_data_years.csv\")\n",
        "world_data"
      ],
      "execution_count": 1,
      "outputs": [
        {
          "output_type": "execute_result",
          "data": {
            "text/html": [
              "<div>\n",
              "<style scoped>\n",
              "    .dataframe tbody tr th:only-of-type {\n",
              "        vertical-align: middle;\n",
              "    }\n",
              "\n",
              "    .dataframe tbody tr th {\n",
              "        vertical-align: top;\n",
              "    }\n",
              "\n",
              "    .dataframe thead th {\n",
              "        text-align: right;\n",
              "    }\n",
              "</style>\n",
              "<table border=\"1\" class=\"dataframe\">\n",
              "  <thead>\n",
              "    <tr style=\"text-align: right;\">\n",
              "      <th></th>\n",
              "      <th>Country</th>\n",
              "      <th>Continent</th>\n",
              "      <th>Year</th>\n",
              "      <th>LifeExpectancy</th>\n",
              "      <th>Population</th>\n",
              "      <th>Income</th>\n",
              "    </tr>\n",
              "  </thead>\n",
              "  <tbody>\n",
              "    <tr>\n",
              "      <th>0</th>\n",
              "      <td>Afghanistan</td>\n",
              "      <td>Asia</td>\n",
              "      <td>1952</td>\n",
              "      <td>28.801</td>\n",
              "      <td>8425333</td>\n",
              "      <td>779.445314</td>\n",
              "    </tr>\n",
              "    <tr>\n",
              "      <th>1</th>\n",
              "      <td>Afghanistan</td>\n",
              "      <td>Asia</td>\n",
              "      <td>1957</td>\n",
              "      <td>30.332</td>\n",
              "      <td>9240934</td>\n",
              "      <td>820.853030</td>\n",
              "    </tr>\n",
              "    <tr>\n",
              "      <th>2</th>\n",
              "      <td>Afghanistan</td>\n",
              "      <td>Asia</td>\n",
              "      <td>1962</td>\n",
              "      <td>31.997</td>\n",
              "      <td>10267083</td>\n",
              "      <td>853.100710</td>\n",
              "    </tr>\n",
              "    <tr>\n",
              "      <th>3</th>\n",
              "      <td>Afghanistan</td>\n",
              "      <td>Asia</td>\n",
              "      <td>1967</td>\n",
              "      <td>34.020</td>\n",
              "      <td>11537966</td>\n",
              "      <td>836.197138</td>\n",
              "    </tr>\n",
              "    <tr>\n",
              "      <th>4</th>\n",
              "      <td>Afghanistan</td>\n",
              "      <td>Asia</td>\n",
              "      <td>1972</td>\n",
              "      <td>36.088</td>\n",
              "      <td>13079460</td>\n",
              "      <td>739.981106</td>\n",
              "    </tr>\n",
              "    <tr>\n",
              "      <th>...</th>\n",
              "      <td>...</td>\n",
              "      <td>...</td>\n",
              "      <td>...</td>\n",
              "      <td>...</td>\n",
              "      <td>...</td>\n",
              "      <td>...</td>\n",
              "    </tr>\n",
              "    <tr>\n",
              "      <th>1699</th>\n",
              "      <td>Zimbabwe</td>\n",
              "      <td>Africa</td>\n",
              "      <td>1987</td>\n",
              "      <td>62.351</td>\n",
              "      <td>9216418</td>\n",
              "      <td>706.157306</td>\n",
              "    </tr>\n",
              "    <tr>\n",
              "      <th>1700</th>\n",
              "      <td>Zimbabwe</td>\n",
              "      <td>Africa</td>\n",
              "      <td>1992</td>\n",
              "      <td>60.377</td>\n",
              "      <td>10704340</td>\n",
              "      <td>693.420786</td>\n",
              "    </tr>\n",
              "    <tr>\n",
              "      <th>1701</th>\n",
              "      <td>Zimbabwe</td>\n",
              "      <td>Africa</td>\n",
              "      <td>1997</td>\n",
              "      <td>46.809</td>\n",
              "      <td>11404948</td>\n",
              "      <td>792.449960</td>\n",
              "    </tr>\n",
              "    <tr>\n",
              "      <th>1702</th>\n",
              "      <td>Zimbabwe</td>\n",
              "      <td>Africa</td>\n",
              "      <td>2002</td>\n",
              "      <td>39.989</td>\n",
              "      <td>11926563</td>\n",
              "      <td>672.038623</td>\n",
              "    </tr>\n",
              "    <tr>\n",
              "      <th>1703</th>\n",
              "      <td>Zimbabwe</td>\n",
              "      <td>Africa</td>\n",
              "      <td>2007</td>\n",
              "      <td>43.487</td>\n",
              "      <td>12311143</td>\n",
              "      <td>469.709298</td>\n",
              "    </tr>\n",
              "  </tbody>\n",
              "</table>\n",
              "<p>1704 rows × 6 columns</p>\n",
              "</div>"
            ],
            "text/plain": [
              "          Country Continent  Year  LifeExpectancy  Population      Income\n",
              "0     Afghanistan      Asia  1952          28.801     8425333  779.445314\n",
              "1     Afghanistan      Asia  1957          30.332     9240934  820.853030\n",
              "2     Afghanistan      Asia  1962          31.997    10267083  853.100710\n",
              "3     Afghanistan      Asia  1967          34.020    11537966  836.197138\n",
              "4     Afghanistan      Asia  1972          36.088    13079460  739.981106\n",
              "...           ...       ...   ...             ...         ...         ...\n",
              "1699     Zimbabwe    Africa  1987          62.351     9216418  706.157306\n",
              "1700     Zimbabwe    Africa  1992          60.377    10704340  693.420786\n",
              "1701     Zimbabwe    Africa  1997          46.809    11404948  792.449960\n",
              "1702     Zimbabwe    Africa  2002          39.989    11926563  672.038623\n",
              "1703     Zimbabwe    Africa  2007          43.487    12311143  469.709298\n",
              "\n",
              "[1704 rows x 6 columns]"
            ]
          },
          "metadata": {
            "tags": []
          },
          "execution_count": 1
        }
      ]
    },
    {
      "cell_type": "markdown",
      "metadata": {
        "id": "hlr-P5qnCRe0"
      },
      "source": [
        "## Question 1\n",
        "Write a code snippet that defines a dataframe, df, storing the average LifeExpectancy, Population, and Income per continent over years. You will extract this info from the world_data dataframe."
      ]
    },
    {
      "cell_type": "code",
      "metadata": {
        "id": "GD0gMpJGCRe1"
      },
      "source": [
        "#answer goes here\n",
        "df = world_data[[\"Continent\",\"LifeExpectancy\", \"Population\", \"Income\"]].groupby(\"Continent\").mean()"
      ],
      "execution_count": 15,
      "outputs": []
    },
    {
      "cell_type": "code",
      "metadata": {
        "id": "-NRjCRYaCRe1",
        "colab": {
          "base_uri": "https://localhost:8080/",
          "height": 235
        },
        "outputId": "4511707f-832a-447a-ef51-f0f0029a9e28"
      },
      "source": [
        "df"
      ],
      "execution_count": 16,
      "outputs": [
        {
          "output_type": "execute_result",
          "data": {
            "text/html": [
              "<div>\n",
              "<style scoped>\n",
              "    .dataframe tbody tr th:only-of-type {\n",
              "        vertical-align: middle;\n",
              "    }\n",
              "\n",
              "    .dataframe tbody tr th {\n",
              "        vertical-align: top;\n",
              "    }\n",
              "\n",
              "    .dataframe thead th {\n",
              "        text-align: right;\n",
              "    }\n",
              "</style>\n",
              "<table border=\"1\" class=\"dataframe\">\n",
              "  <thead>\n",
              "    <tr style=\"text-align: right;\">\n",
              "      <th></th>\n",
              "      <th>LifeExpectancy</th>\n",
              "      <th>Population</th>\n",
              "      <th>Income</th>\n",
              "    </tr>\n",
              "    <tr>\n",
              "      <th>Continent</th>\n",
              "      <th></th>\n",
              "      <th></th>\n",
              "      <th></th>\n",
              "    </tr>\n",
              "  </thead>\n",
              "  <tbody>\n",
              "    <tr>\n",
              "      <th>Africa</th>\n",
              "      <td>48.865330</td>\n",
              "      <td>9.916003e+06</td>\n",
              "      <td>2193.754578</td>\n",
              "    </tr>\n",
              "    <tr>\n",
              "      <th>Americas</th>\n",
              "      <td>64.658737</td>\n",
              "      <td>2.450479e+07</td>\n",
              "      <td>7136.110356</td>\n",
              "    </tr>\n",
              "    <tr>\n",
              "      <th>Asia</th>\n",
              "      <td>60.064903</td>\n",
              "      <td>7.703872e+07</td>\n",
              "      <td>7902.150428</td>\n",
              "    </tr>\n",
              "    <tr>\n",
              "      <th>Europe</th>\n",
              "      <td>71.903686</td>\n",
              "      <td>1.716976e+07</td>\n",
              "      <td>14469.475533</td>\n",
              "    </tr>\n",
              "    <tr>\n",
              "      <th>Oceania</th>\n",
              "      <td>74.326208</td>\n",
              "      <td>8.874672e+06</td>\n",
              "      <td>18621.609223</td>\n",
              "    </tr>\n",
              "  </tbody>\n",
              "</table>\n",
              "</div>"
            ],
            "text/plain": [
              "           LifeExpectancy    Population        Income\n",
              "Continent                                            \n",
              "Africa          48.865330  9.916003e+06   2193.754578\n",
              "Americas        64.658737  2.450479e+07   7136.110356\n",
              "Asia            60.064903  7.703872e+07   7902.150428\n",
              "Europe          71.903686  1.716976e+07  14469.475533\n",
              "Oceania         74.326208  8.874672e+06  18621.609223"
            ]
          },
          "metadata": {
            "tags": []
          },
          "execution_count": 16
        }
      ]
    },
    {
      "cell_type": "markdown",
      "metadata": {
        "id": "N0aAe0XlCRe1"
      },
      "source": [
        "## Question 2\n",
        "\n",
        "In this part, you will produce a violin plot using the Seaborn library. We’ve not covered this specific plot in the lectures, and therefore, you will first need to learn how to use the violinplot function by referring to the following documentation:\n",
        "\n",
        "https://seaborn.pydata.org/generated/seaborn.violinplot.html\n",
        "\n",
        "\n",
        "As data scientists, often you will need to figure out how to use various functions and tools by reading online documentations. This FLA is an attempt at giving you the chance to get started doing that, if you haven’t already. 😊\n",
        "\n",
        "Once you are comfortable with how to produce a violin plot using Seaborn, produce a violin plot to visualize the Life Expectancy column from the “world_data_years.csv”, which is attached to the FLA. **Note that violinplots need a distribution of data, not an aggregate score like the mean.**\n",
        "\n",
        "You should visualize the Life Expectancy variable for the different continents included in the dataset. Once successfully produced, your visualization will look like the following plot. Pay attention to the graph properties, like axis labels and color palette. Your graph should match the sample output."
      ]
    },
    {
      "cell_type": "code",
      "metadata": {
        "id": "joa_OKILCRe2",
        "colab": {
          "base_uri": "https://localhost:8080/",
          "height": 319
        },
        "outputId": "c47e9aac-abbb-4292-8182-774b556b4d06"
      },
      "source": [
        "import seaborn as sns\n",
        "\n",
        "#answer goes here\n",
        "graph = sns.violinplot(x=\"Continent\", y=\"LifeExpectancy\",  data = world_data)\n",
        "\n",
        "#specify the title\n",
        "title = \"Life Expectancy per Continent\"\n",
        "\n",
        "#set the title of the plot\n",
        "graph.set_title(title, size = 16)\n",
        "\n",
        "#add labels to the axes  \n",
        "graph.set_xlabel(\"Continent\", size = 16)\n",
        "graph.set_ylabel(\"Life Expectancy\", size = 16)"
      ],
      "execution_count": 36,
      "outputs": [
        {
          "output_type": "execute_result",
          "data": {
            "text/plain": [
              "Text(0, 0.5, 'Life Expectancy')"
            ]
          },
          "metadata": {
            "tags": []
          },
          "execution_count": 36
        },
        {
          "output_type": "display_data",
          "data": {
            "image/png": "[encoded data removed]",
            "text/plain": [
              "<Figure size 432x288 with 1 Axes>"
            ]
          },
          "metadata": {
            "tags": [],
            "needs_background": "light"
          }
        }
      ]
    },
    {
      "cell_type": "markdown",
      "metadata": {
        "id": "UoVjSBUdCRe2"
      },
      "source": [
        "**Looking at the visualization, what information do violin plots provide?**"
      ]
    },
    {
      "cell_type": "code",
      "metadata": {
        "id": "WpMtbSsiCRe2"
      },
      "source": [
        "#your answer goes here\n",
        "#mean and distribution\n",
        "\n",
        "#Africa has the lowest life expectancy with most people expecting to die around 40-50\n",
        "#Europe, Americas, and Oceania has a high life expectancy with most people expecting to die around >70"
      ],
      "execution_count": null,
      "outputs": []
    },
    {
      "cell_type": "markdown",
      "metadata": {
        "id": "PfD7FLAxCRe3"
      },
      "source": [
        "# Question 3\n",
        "Let's now change the focus to countries. \n",
        "\n",
        "Write a code snippet to define a new dataframe, data, that holds the **average** LifeExpectancy, Population, and Income **per country** over years. You no longer need the Year column, so it should be dropped, and the index should be reset. Your dataframe should look like the one provided in the sample output.\n",
        "\n",
        "**Hint:** It is possible to do all of these in just a single line. :)"
      ]
    },
    {
      "cell_type": "code",
      "metadata": {
        "id": "a5woGWtcCRe3"
      },
      "source": [
        "#answer goes here\n",
        "data = world_data[[\"Country\",\"LifeExpectancy\", \"Population\", \"Income\"]].groupby(\"Country\").mean().reset_index()"
      ],
      "execution_count": 39,
      "outputs": []
    },
    {
      "cell_type": "code",
      "metadata": {
        "id": "v5-u1BeCCRe3",
        "colab": {
          "base_uri": "https://localhost:8080/",
          "height": 204
        },
        "outputId": "ac9bd677-c72d-44ac-b865-80e353e7f849"
      },
      "source": [
        "data.head()"
      ],
      "execution_count": 40,
      "outputs": [
        {
          "output_type": "execute_result",
          "data": {
            "text/html": [
              "<div>\n",
              "<style scoped>\n",
              "    .dataframe tbody tr th:only-of-type {\n",
              "        vertical-align: middle;\n",
              "    }\n",
              "\n",
              "    .dataframe tbody tr th {\n",
              "        vertical-align: top;\n",
              "    }\n",
              "\n",
              "    .dataframe thead th {\n",
              "        text-align: right;\n",
              "    }\n",
              "</style>\n",
              "<table border=\"1\" class=\"dataframe\">\n",
              "  <thead>\n",
              "    <tr style=\"text-align: right;\">\n",
              "      <th></th>\n",
              "      <th>Country</th>\n",
              "      <th>LifeExpectancy</th>\n",
              "      <th>Population</th>\n",
              "      <th>Income</th>\n",
              "    </tr>\n",
              "  </thead>\n",
              "  <tbody>\n",
              "    <tr>\n",
              "      <th>0</th>\n",
              "      <td>Afghanistan</td>\n",
              "      <td>37.478833</td>\n",
              "      <td>1.582372e+07</td>\n",
              "      <td>802.674598</td>\n",
              "    </tr>\n",
              "    <tr>\n",
              "      <th>1</th>\n",
              "      <td>Albania</td>\n",
              "      <td>68.432917</td>\n",
              "      <td>2.580249e+06</td>\n",
              "      <td>3255.366633</td>\n",
              "    </tr>\n",
              "    <tr>\n",
              "      <th>2</th>\n",
              "      <td>Algeria</td>\n",
              "      <td>59.030167</td>\n",
              "      <td>1.987541e+07</td>\n",
              "      <td>4426.025973</td>\n",
              "    </tr>\n",
              "    <tr>\n",
              "      <th>3</th>\n",
              "      <td>Angola</td>\n",
              "      <td>37.883500</td>\n",
              "      <td>7.309390e+06</td>\n",
              "      <td>3607.100529</td>\n",
              "    </tr>\n",
              "    <tr>\n",
              "      <th>4</th>\n",
              "      <td>Argentina</td>\n",
              "      <td>69.060417</td>\n",
              "      <td>2.860224e+07</td>\n",
              "      <td>8955.553783</td>\n",
              "    </tr>\n",
              "  </tbody>\n",
              "</table>\n",
              "</div>"
            ],
            "text/plain": [
              "       Country  LifeExpectancy    Population       Income\n",
              "0  Afghanistan       37.478833  1.582372e+07   802.674598\n",
              "1      Albania       68.432917  2.580249e+06  3255.366633\n",
              "2      Algeria       59.030167  1.987541e+07  4426.025973\n",
              "3       Angola       37.883500  7.309390e+06  3607.100529\n",
              "4    Argentina       69.060417  2.860224e+07  8955.553783"
            ]
          },
          "metadata": {
            "tags": []
          },
          "execution_count": 40
        }
      ]
    },
    {
      "cell_type": "markdown",
      "metadata": {
        "id": "0w7Fwbt7CRe4"
      },
      "source": [
        "# <center> Pandas Visualizations </center>\n",
        "Pandas provides support for Seaborn visualizations through a variety of built-in methods.\n",
        "For instance, you can generate a histogram of a given column in a dataframe by calling the **hist()** method on the dataframe:\n",
        "    * https://pandas.pydata.org/pandas-docs/stable/reference/api/pandas.DataFrame.hist.html\n",
        "\n",
        "In order for the graphs to display inline, you will need to import either matplotlib or seaborn (as pandas calls matplotlib behind the scenes).\n",
        "\n",
        "Go ahead and run the following cell to generate a histogram of the Life Expectancy values for the countries included in the dataset."
      ]
    },
    {
      "cell_type": "code",
      "metadata": {
        "id": "gNSzV7RjCRe4",
        "colab": {
          "base_uri": "https://localhost:8080/",
          "height": 315
        },
        "outputId": "db62c0bb-f687-4682-a8ad-f1eb24a63e17"
      },
      "source": [
        "import seaborn as sns\n",
        "data.hist(column = \"LifeExpectancy\")"
      ],
      "execution_count": 41,
      "outputs": [
        {
          "output_type": "execute_result",
          "data": {
            "text/plain": [
              "array([[<matplotlib.axes._subplots.AxesSubplot object at 0x7fc249d270d0>]],\n",
              "      dtype=object)"
            ]
          },
          "metadata": {
            "tags": []
          },
          "execution_count": 41
        },
        {
          "output_type": "display_data",
          "data": {
            "image/png": "[encoded data removed]",
            "text/plain": [
              "<Figure size 432x288 with 1 Axes>"
            ]
          },
          "metadata": {
            "tags": [],
            "needs_background": "light"
          }
        }
      ]
    },
    {
      "cell_type": "markdown",
      "metadata": {
        "id": "E4lu39hQCRe4"
      },
      "source": [
        "# Question 4\n",
        "\n",
        "Based on the histogram, what can you conclude about the distribution of Life Expectancy values? Are they normally distributed? Why or why not?"
      ]
    },
    {
      "cell_type": "code",
      "metadata": {
        "id": "3cHCm7-ECRe4"
      },
      "source": [
        "#answer goes here\n",
        "#It is not normally distributed because one side is low and the other side is high. \n",
        "#A lot of people are expected to live 75 years while \n",
        "#a few are expected to live less than 40 years"
      ],
      "execution_count": null,
      "outputs": []
    },
    {
      "cell_type": "markdown",
      "metadata": {
        "id": "ZA3JCUUWCRe5"
      },
      "source": [
        "<hr>"
      ]
    },
    {
      "cell_type": "markdown",
      "metadata": {
        "id": "I47NbK0ECRe5"
      },
      "source": [
        "Pandas supports a variety of plots. For more information, please refer to the following page:\n",
        "   * https://pandas.pydata.org/pandas-docs/stable/reference/api/pandas.DataFrame.plot.html\n",
        "   \n",
        "We're going to look at a few of these in the following section. But first, let's look at another useful method. :)"
      ]
    },
    {
      "cell_type": "markdown",
      "metadata": {
        "id": "cwZvRY9YCRe5"
      },
      "source": [
        "### Sample me not.\n",
        "\n",
        "The **sample()** method returns a random sample of items from a dataframe:\n",
        "\n",
        "* https://pandas.pydata.org/pandas-docs/stable/reference/api/pandas.DataFrame.sample.html\n",
        "    \n",
        "Executing the following cell will return a random sample of 5 rows from **data**. We will use a random sample of 5 countries in the following visualizations."
      ]
    },
    {
      "cell_type": "code",
      "metadata": {
        "id": "W2uPk99NCRe5",
        "colab": {
          "base_uri": "https://localhost:8080/",
          "height": 204
        },
        "outputId": "0fb09648-1222-463d-f10c-cda32514a245"
      },
      "source": [
        "df = data.sample(5)\n",
        "df"
      ],
      "execution_count": 42,
      "outputs": [
        {
          "output_type": "execute_result",
          "data": {
            "text/html": [
              "<div>\n",
              "<style scoped>\n",
              "    .dataframe tbody tr th:only-of-type {\n",
              "        vertical-align: middle;\n",
              "    }\n",
              "\n",
              "    .dataframe tbody tr th {\n",
              "        vertical-align: top;\n",
              "    }\n",
              "\n",
              "    .dataframe thead th {\n",
              "        text-align: right;\n",
              "    }\n",
              "</style>\n",
              "<table border=\"1\" class=\"dataframe\">\n",
              "  <thead>\n",
              "    <tr style=\"text-align: right;\">\n",
              "      <th></th>\n",
              "      <th>Country</th>\n",
              "      <th>LifeExpectancy</th>\n",
              "      <th>Population</th>\n",
              "      <th>Income</th>\n",
              "    </tr>\n",
              "  </thead>\n",
              "  <tbody>\n",
              "    <tr>\n",
              "      <th>87</th>\n",
              "      <td>Myanmar</td>\n",
              "      <td>53.321667</td>\n",
              "      <td>3.343229e+07</td>\n",
              "      <td>439.333333</td>\n",
              "    </tr>\n",
              "    <tr>\n",
              "      <th>21</th>\n",
              "      <td>Central African Republic</td>\n",
              "      <td>43.866917</td>\n",
              "      <td>2.560963e+06</td>\n",
              "      <td>958.784697</td>\n",
              "    </tr>\n",
              "    <tr>\n",
              "      <th>78</th>\n",
              "      <td>Malaysia</td>\n",
              "      <td>64.279583</td>\n",
              "      <td>1.457406e+07</td>\n",
              "      <td>5406.038197</td>\n",
              "    </tr>\n",
              "    <tr>\n",
              "      <th>135</th>\n",
              "      <td>United States</td>\n",
              "      <td>73.478500</td>\n",
              "      <td>2.282112e+08</td>\n",
              "      <td>26261.151347</td>\n",
              "    </tr>\n",
              "    <tr>\n",
              "      <th>44</th>\n",
              "      <td>France</td>\n",
              "      <td>74.348917</td>\n",
              "      <td>5.295256e+07</td>\n",
              "      <td>18833.570327</td>\n",
              "    </tr>\n",
              "  </tbody>\n",
              "</table>\n",
              "</div>"
            ],
            "text/plain": [
              "                      Country  LifeExpectancy    Population        Income\n",
              "87                    Myanmar       53.321667  3.343229e+07    439.333333\n",
              "21   Central African Republic       43.866917  2.560963e+06    958.784697\n",
              "78                   Malaysia       64.279583  1.457406e+07   5406.038197\n",
              "135             United States       73.478500  2.282112e+08  26261.151347\n",
              "44                     France       74.348917  5.295256e+07  18833.570327"
            ]
          },
          "metadata": {
            "tags": []
          },
          "execution_count": 42
        }
      ]
    },
    {
      "cell_type": "markdown",
      "metadata": {
        "id": "JfwRPd3CCRe6"
      },
      "source": [
        "### Bar Plots in Pandas\n",
        "\n",
        "* There are two main ways to generate a visualization.\n",
        "\n",
        "* The first involves calling .plot on your dataframe and then calling the specific graph function, such as bar, on your dataframe. This is shown below:"
      ]
    },
    {
      "cell_type": "code",
      "metadata": {
        "id": "UnT0rYIsCRe6",
        "colab": {
          "base_uri": "https://localhost:8080/",
          "height": 279
        },
        "outputId": "d3b41704-af79-4c84-a7ff-5157dcf0c700"
      },
      "source": [
        "bar = df.plot.bar(x='Country', y='LifeExpectancy', rot=0)"
      ],
      "execution_count": 43,
      "outputs": [
        {
          "output_type": "display_data",
          "data": {
            "image/png": "[encoded data removed]",
            "text/plain": [
              "<Figure size 432x288 with 1 Axes>"
            ]
          },
          "metadata": {
            "tags": [],
            "needs_background": "light"
          }
        }
      ]
    },
    {
      "cell_type": "markdown",
      "metadata": {
        "id": "3JN3Qe99CRe6"
      },
      "source": [
        "* The second method is slightly different, with the kind of graph being specified inside the plot() method call using the **kind** keyword argument.\n",
        "\n",
        "Either approach is fine. Use whatever you like:"
      ]
    },
    {
      "cell_type": "code",
      "metadata": {
        "id": "kdekoTueCRe6",
        "colab": {
          "base_uri": "https://localhost:8080/",
          "height": 390
        },
        "outputId": "5399f4aa-aff2-4162-e537-e270fa8677a9"
      },
      "source": [
        "bar2 = df.plot(x=\"Country\", y=\"LifeExpectancy\", kind=\"bar\")"
      ],
      "execution_count": 44,
      "outputs": [
        {
          "output_type": "display_data",
          "data": {
            "image/png": "[encoded data removed]",
            "text/plain": [
              "<Figure size 432x288 with 1 Axes>"
            ]
          },
          "metadata": {
            "tags": [],
            "needs_background": "light"
          }
        }
      ]
    },
    {
      "cell_type": "markdown",
      "metadata": {
        "id": "MyKKxFxoCRe7"
      },
      "source": [
        "### Horizontal Bar graphs?\n",
        "* Sure! \n",
        "* https://pandas.pydata.org/pandas-docs/stable/reference/api/pandas.DataFrame.plot.barh.html"
      ]
    },
    {
      "cell_type": "code",
      "metadata": {
        "id": "2WDmZxK2CRe7",
        "colab": {
          "base_uri": "https://localhost:8080/",
          "height": 265
        },
        "outputId": "46e35df5-2357-4e89-9e3c-1a18a82085e1"
      },
      "source": [
        "barh = df.plot.barh(x='Country', y='LifeExpectancy')"
      ],
      "execution_count": 45,
      "outputs": [
        {
          "output_type": "display_data",
          "data": {
            "image/png": "[encoded data removed]",
            "text/plain": [
              "<Figure size 432x288 with 1 Axes>"
            ]
          },
          "metadata": {
            "tags": [],
            "needs_background": "light"
          }
        }
      ]
    },
    {
      "cell_type": "markdown",
      "metadata": {
        "id": "qDYOKzuACRe7"
      },
      "source": [
        "###  Scatter plots?\n",
        "* You bet! \n",
        "* https://pandas.pydata.org/pandas-docs/stable/reference/api/pandas.DataFrame.plot.scatter.html"
      ]
    },
    {
      "cell_type": "code",
      "metadata": {
        "id": "VuWIoNDzCRe7",
        "colab": {
          "base_uri": "https://localhost:8080/",
          "height": 279
        },
        "outputId": "3b1a23ff-66c0-4bd9-d26e-7de1627b75b5"
      },
      "source": [
        "scatter = data.plot.scatter(x='Income', y='LifeExpectancy')"
      ],
      "execution_count": 46,
      "outputs": [
        {
          "output_type": "display_data",
          "data": {
            "image/png": "[encoded data removed]",
            "text/plain": [
              "<Figure size 432x288 with 1 Axes>"
            ]
          },
          "metadata": {
            "tags": [],
            "needs_background": "light"
          }
        }
      ]
    },
    {
      "cell_type": "markdown",
      "metadata": {
        "id": "JhMpqVi4CRe8"
      },
      "source": [
        "### So what?\n",
        "I think you got the gist of it! \n",
        "\n",
        "The bottom line is that these visualization methods are available if you want to quickly visualize your data stored in a dataframe. \n",
        "\n",
        "You can explore the rest of the methods on your own if you would like to use pandas visualizations in your DS practice!"
      ]
    },
    {
      "cell_type": "markdown",
      "metadata": {
        "id": "vMgcEOKgCRe8"
      },
      "source": [
        "<hr>"
      ]
    },
    {
      "cell_type": "markdown",
      "metadata": {
        "id": "-B_VM2izCRe8"
      },
      "source": [
        "# <center> FP1 - Topic Proposals </center>"
      ]
    },
    {
      "cell_type": "markdown",
      "metadata": {
        "id": "5kIMqPsrCRe8"
      },
      "source": [
        "Now that the groups are formed, it's time to get started with your project! You will use rest of the session to come up with a plan for FP1. \n",
        "\n",
        "Answer the following questions:\n",
        "\n",
        "* This goes without saying, but asynchronous students will first need to get in touch with their teammates!"
      ]
    },
    {
      "cell_type": "markdown",
      "metadata": {
        "id": "cBLP9DlNCRe9"
      },
      "source": [
        "# Question 5\n",
        "Who are your teammates? Include their full name. You can see your teammates on Canvas (go to your group page under People > Groups). \n",
        "\n",
        "Canvas provides a option to message all your group members through the Inbox feature:\n",
        "   * https://community.canvaslms.com/t5/Student-Guide/How-do-I-send-a-message-to-a-user-in-a-group-in-the-Inbox-as-a/ta-p/306"
      ]
    },
    {
      "cell_type": "code",
      "metadata": {
        "id": "8quMPaa-CRe9"
      },
      "source": [
        "#Hongxing Qian, Jiahao Hong"
      ],
      "execution_count": null,
      "outputs": []
    },
    {
      "cell_type": "markdown",
      "metadata": {
        "id": "x6vvlxFXCRe9"
      },
      "source": [
        "# Question 6\n",
        "Which communication tool are you going to use as a team? If you do not have one, please establish a clear communication channel (e.g., email, Zoom meetings, Slack/Discord/MS Teams, Whatsapp, etc.) Specify your medium of communication here:"
      ]
    },
    {
      "cell_type": "code",
      "metadata": {
        "id": "1SvrCs5qCRe9"
      },
      "source": [
        "#Discord"
      ],
      "execution_count": null,
      "outputs": []
    },
    {
      "cell_type": "markdown",
      "metadata": {
        "id": "x2EbhuIkCRe9"
      },
      "source": [
        "# Question 7\n",
        "Establish a weekly meeting time with your teammates. When will you meet (day and time)? Where? (e.g., Zoom, Teams, Discord)"
      ]
    },
    {
      "cell_type": "code",
      "metadata": {
        "id": "K4wI79GPCRe-"
      },
      "source": [
        "#we will meet on Friday via Discord"
      ],
      "execution_count": null,
      "outputs": []
    },
    {
      "cell_type": "markdown",
      "metadata": {
        "id": "C3ddOkEjCRe-"
      },
      "source": [
        "# Question 8\n",
        "What are your plans for the upcoming FP1?"
      ]
    },
    {
      "cell_type": "code",
      "metadata": {
        "id": "BvFqhxJCCRe-"
      },
      "source": [
        "#we will brainstorm potential topics together and try to find the approporiate databases"
      ],
      "execution_count": null,
      "outputs": []
    }
  ]
}